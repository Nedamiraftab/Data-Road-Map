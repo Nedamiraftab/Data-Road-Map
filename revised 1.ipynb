{
  "nbformat": 4,
  "nbformat_minor": 0,
  "metadata": {
    "colab": {
      "provenance": [],
      "authorship_tag": "ABX9TyM5BJ35zKmgXzvNbdgUoQJ/",
      "include_colab_link": true
    },
    "kernelspec": {
      "name": "python3",
      "display_name": "Python 3"
    },
    "language_info": {
      "name": "python"
    }
  },
  "cells": [
    {
      "cell_type": "markdown",
      "metadata": {
        "id": "view-in-github",
        "colab_type": "text"
      },
      "source": [
        "<a href=\"https://colab.research.google.com/github/Nedamiraftab/Data-Road-Map/blob/main/revised%201.ipynb\" target=\"_parent\"><img src=\"https://colab.research.google.com/assets/colab-badge.svg\" alt=\"Open In Colab\"/></a>"
      ]
    },
    {
      "cell_type": "code",
      "execution_count": 1,
      "metadata": {
        "id": "ljIgTCD2-xu-"
      },
      "outputs": [],
      "source": [
        "from google.colab import files"
      ]
    },
    {
      "cell_type": "code",
      "source": [
        "uploaded = files.upload()"
      ],
      "metadata": {
        "colab": {
          "base_uri": "https://localhost:8080/",
          "height": 73
        },
        "id": "Fkh9AA6S-5Tk",
        "outputId": "b44f12ba-edac-463b-9cfe-1801457e08d3"
      },
      "execution_count": 2,
      "outputs": [
        {
          "output_type": "display_data",
          "data": {
            "text/plain": [
              "<IPython.core.display.HTML object>"
            ],
            "text/html": [
              "\n",
              "     <input type=\"file\" id=\"files-c0419e2d-b468-4bfb-998c-3083eb6912da\" name=\"files[]\" multiple disabled\n",
              "        style=\"border:none\" />\n",
              "     <output id=\"result-c0419e2d-b468-4bfb-998c-3083eb6912da\">\n",
              "      Upload widget is only available when the cell has been executed in the\n",
              "      current browser session. Please rerun this cell to enable.\n",
              "      </output>\n",
              "      <script>// Copyright 2017 Google LLC\n",
              "//\n",
              "// Licensed under the Apache License, Version 2.0 (the \"License\");\n",
              "// you may not use this file except in compliance with the License.\n",
              "// You may obtain a copy of the License at\n",
              "//\n",
              "//      http://www.apache.org/licenses/LICENSE-2.0\n",
              "//\n",
              "// Unless required by applicable law or agreed to in writing, software\n",
              "// distributed under the License is distributed on an \"AS IS\" BASIS,\n",
              "// WITHOUT WARRANTIES OR CONDITIONS OF ANY KIND, either express or implied.\n",
              "// See the License for the specific language governing permissions and\n",
              "// limitations under the License.\n",
              "\n",
              "/**\n",
              " * @fileoverview Helpers for google.colab Python module.\n",
              " */\n",
              "(function(scope) {\n",
              "function span(text, styleAttributes = {}) {\n",
              "  const element = document.createElement('span');\n",
              "  element.textContent = text;\n",
              "  for (const key of Object.keys(styleAttributes)) {\n",
              "    element.style[key] = styleAttributes[key];\n",
              "  }\n",
              "  return element;\n",
              "}\n",
              "\n",
              "// Max number of bytes which will be uploaded at a time.\n",
              "const MAX_PAYLOAD_SIZE = 100 * 1024;\n",
              "\n",
              "function _uploadFiles(inputId, outputId) {\n",
              "  const steps = uploadFilesStep(inputId, outputId);\n",
              "  const outputElement = document.getElementById(outputId);\n",
              "  // Cache steps on the outputElement to make it available for the next call\n",
              "  // to uploadFilesContinue from Python.\n",
              "  outputElement.steps = steps;\n",
              "\n",
              "  return _uploadFilesContinue(outputId);\n",
              "}\n",
              "\n",
              "// This is roughly an async generator (not supported in the browser yet),\n",
              "// where there are multiple asynchronous steps and the Python side is going\n",
              "// to poll for completion of each step.\n",
              "// This uses a Promise to block the python side on completion of each step,\n",
              "// then passes the result of the previous step as the input to the next step.\n",
              "function _uploadFilesContinue(outputId) {\n",
              "  const outputElement = document.getElementById(outputId);\n",
              "  const steps = outputElement.steps;\n",
              "\n",
              "  const next = steps.next(outputElement.lastPromiseValue);\n",
              "  return Promise.resolve(next.value.promise).then((value) => {\n",
              "    // Cache the last promise value to make it available to the next\n",
              "    // step of the generator.\n",
              "    outputElement.lastPromiseValue = value;\n",
              "    return next.value.response;\n",
              "  });\n",
              "}\n",
              "\n",
              "/**\n",
              " * Generator function which is called between each async step of the upload\n",
              " * process.\n",
              " * @param {string} inputId Element ID of the input file picker element.\n",
              " * @param {string} outputId Element ID of the output display.\n",
              " * @return {!Iterable<!Object>} Iterable of next steps.\n",
              " */\n",
              "function* uploadFilesStep(inputId, outputId) {\n",
              "  const inputElement = document.getElementById(inputId);\n",
              "  inputElement.disabled = false;\n",
              "\n",
              "  const outputElement = document.getElementById(outputId);\n",
              "  outputElement.innerHTML = '';\n",
              "\n",
              "  const pickedPromise = new Promise((resolve) => {\n",
              "    inputElement.addEventListener('change', (e) => {\n",
              "      resolve(e.target.files);\n",
              "    });\n",
              "  });\n",
              "\n",
              "  const cancel = document.createElement('button');\n",
              "  inputElement.parentElement.appendChild(cancel);\n",
              "  cancel.textContent = 'Cancel upload';\n",
              "  const cancelPromise = new Promise((resolve) => {\n",
              "    cancel.onclick = () => {\n",
              "      resolve(null);\n",
              "    };\n",
              "  });\n",
              "\n",
              "  // Wait for the user to pick the files.\n",
              "  const files = yield {\n",
              "    promise: Promise.race([pickedPromise, cancelPromise]),\n",
              "    response: {\n",
              "      action: 'starting',\n",
              "    }\n",
              "  };\n",
              "\n",
              "  cancel.remove();\n",
              "\n",
              "  // Disable the input element since further picks are not allowed.\n",
              "  inputElement.disabled = true;\n",
              "\n",
              "  if (!files) {\n",
              "    return {\n",
              "      response: {\n",
              "        action: 'complete',\n",
              "      }\n",
              "    };\n",
              "  }\n",
              "\n",
              "  for (const file of files) {\n",
              "    const li = document.createElement('li');\n",
              "    li.append(span(file.name, {fontWeight: 'bold'}));\n",
              "    li.append(span(\n",
              "        `(${file.type || 'n/a'}) - ${file.size} bytes, ` +\n",
              "        `last modified: ${\n",
              "            file.lastModifiedDate ? file.lastModifiedDate.toLocaleDateString() :\n",
              "                                    'n/a'} - `));\n",
              "    const percent = span('0% done');\n",
              "    li.appendChild(percent);\n",
              "\n",
              "    outputElement.appendChild(li);\n",
              "\n",
              "    const fileDataPromise = new Promise((resolve) => {\n",
              "      const reader = new FileReader();\n",
              "      reader.onload = (e) => {\n",
              "        resolve(e.target.result);\n",
              "      };\n",
              "      reader.readAsArrayBuffer(file);\n",
              "    });\n",
              "    // Wait for the data to be ready.\n",
              "    let fileData = yield {\n",
              "      promise: fileDataPromise,\n",
              "      response: {\n",
              "        action: 'continue',\n",
              "      }\n",
              "    };\n",
              "\n",
              "    // Use a chunked sending to avoid message size limits. See b/62115660.\n",
              "    let position = 0;\n",
              "    do {\n",
              "      const length = Math.min(fileData.byteLength - position, MAX_PAYLOAD_SIZE);\n",
              "      const chunk = new Uint8Array(fileData, position, length);\n",
              "      position += length;\n",
              "\n",
              "      const base64 = btoa(String.fromCharCode.apply(null, chunk));\n",
              "      yield {\n",
              "        response: {\n",
              "          action: 'append',\n",
              "          file: file.name,\n",
              "          data: base64,\n",
              "        },\n",
              "      };\n",
              "\n",
              "      let percentDone = fileData.byteLength === 0 ?\n",
              "          100 :\n",
              "          Math.round((position / fileData.byteLength) * 100);\n",
              "      percent.textContent = `${percentDone}% done`;\n",
              "\n",
              "    } while (position < fileData.byteLength);\n",
              "  }\n",
              "\n",
              "  // All done.\n",
              "  yield {\n",
              "    response: {\n",
              "      action: 'complete',\n",
              "    }\n",
              "  };\n",
              "}\n",
              "\n",
              "scope.google = scope.google || {};\n",
              "scope.google.colab = scope.google.colab || {};\n",
              "scope.google.colab._files = {\n",
              "  _uploadFiles,\n",
              "  _uploadFilesContinue,\n",
              "};\n",
              "})(self);\n",
              "</script> "
            ]
          },
          "metadata": {}
        },
        {
          "output_type": "stream",
          "name": "stdout",
          "text": [
            "Saving Data_Pathrise.xlsx to Data_Pathrise.xlsx\n"
          ]
        }
      ]
    },
    {
      "cell_type": "code",
      "source": [
        "import pandas as pd"
      ],
      "metadata": {
        "id": "hirM3bAf_CBA"
      },
      "execution_count": 3,
      "outputs": []
    },
    {
      "cell_type": "code",
      "source": [
        "import numpy as np"
      ],
      "metadata": {
        "id": "qKfBD_Za_EMQ"
      },
      "execution_count": 5,
      "outputs": []
    },
    {
      "cell_type": "code",
      "source": [
        "import matplotlib.pyplot as plt"
      ],
      "metadata": {
        "id": "DsA1sQlH_FcA"
      },
      "execution_count": 6,
      "outputs": []
    },
    {
      "cell_type": "code",
      "source": [
        "import seaborn as sns"
      ],
      "metadata": {
        "id": "z_o8e22V_JeV"
      },
      "execution_count": 7,
      "outputs": []
    },
    {
      "cell_type": "code",
      "source": [
        "df = pd.read_excel('Data_Pathrise.xlsx')"
      ],
      "metadata": {
        "id": "v-VNGLZc_MWG"
      },
      "execution_count": 9,
      "outputs": []
    },
    {
      "cell_type": "code",
      "source": [
        "df.drop(columns=['id'], inplace=True)"
      ],
      "metadata": {
        "id": "MXpPUFRu_UDB"
      },
      "execution_count": 10,
      "outputs": []
    },
    {
      "cell_type": "code",
      "source": [
        "df.drop(columns=['primary_track'], inplace=True)"
      ],
      "metadata": {
        "id": "G4NZ8kFw_ZTH"
      },
      "execution_count": 11,
      "outputs": []
    },
    {
      "cell_type": "code",
      "source": [
        "df.drop(columns=['biggest_challenge_in_search'], inplace=True)"
      ],
      "metadata": {
        "id": "Qh79SxKH_cHi"
      },
      "execution_count": 12,
      "outputs": []
    },
    {
      "cell_type": "code",
      "source": [
        "df.drop(columns=['gender'], inplace=True)"
      ],
      "metadata": {
        "id": "p7KkR4Bp_esm"
      },
      "execution_count": 13,
      "outputs": []
    },
    {
      "cell_type": "code",
      "source": [
        "df.drop(columns=['race'], inplace=True)"
      ],
      "metadata": {
        "id": "3lijE0wj_g2H"
      },
      "execution_count": 14,
      "outputs": []
    },
    {
      "cell_type": "code",
      "source": [
        "df.drop(columns=['length_of_job_search'], inplace=True)"
      ],
      "metadata": {
        "id": "RoDg2aUB_jKp"
      },
      "execution_count": 15,
      "outputs": []
    },
    {
      "cell_type": "code",
      "source": [
        "pathrise_status_rows_to_drop = ['Withdrawn', 'Withdrawn (Failed)', 'Withdrawn (Trial)']  #to drop rows from pathrise status"
      ],
      "metadata": {
        "id": "An1k66In_pE3"
      },
      "execution_count": 16,
      "outputs": []
    },
    {
      "cell_type": "code",
      "source": [
        "df = df[~df['pathrise_status'].isin(pathrise_status_rows_to_drop)]"
      ],
      "metadata": {
        "id": "r22pu18f_v-I"
      },
      "execution_count": 18,
      "outputs": []
    },
    {
      "cell_type": "code",
      "source": [
        "df.dtypes"
      ],
      "metadata": {
        "colab": {
          "base_uri": "https://localhost:8080/"
        },
        "id": "T9U_CK3J_yOI",
        "outputId": "008ed21a-d57a-4f9c-d2ce-cd83c4941f18"
      },
      "execution_count": 19,
      "outputs": [
        {
          "output_type": "execute_result",
          "data": {
            "text/plain": [
              "pathrise_status                object\n",
              "cohort_tag                     object\n",
              "program_duration_days         float64\n",
              "placed                          int64\n",
              "employment_status              object\n",
              "highest_level_of_education     object\n",
              "professional_experience        object\n",
              "work_authorization_status      object\n",
              "number_of_interviews          float64\n",
              "number_of_applications          int64\n",
              "dtype: object"
            ]
          },
          "metadata": {},
          "execution_count": 19
        }
      ]
    },
    {
      "cell_type": "code",
      "source": [
        "df['cohort_tag'].replace(np.NaN, df['cohort_tag'].mode()[0], inplace = True)     #to replace by most repeated items"
      ],
      "metadata": {
        "id": "ozT4W_Jo_2cQ"
      },
      "execution_count": 20,
      "outputs": []
    },
    {
      "cell_type": "code",
      "source": [
        "df[['month', 'year']]= df['cohort_tag'].str.extract(r'([A-Za-z]+)(\\d+)')    #to separate month and year"
      ],
      "metadata": {
        "id": "0Up9UU42_53p"
      },
      "execution_count": 21,
      "outputs": []
    },
    {
      "cell_type": "code",
      "source": [
        "df['year']= df['year'].str.replace(r'[A-Za-z]', '')  #to remove letter ABC"
      ],
      "metadata": {
        "id": "prJugfho_8nK"
      },
      "execution_count": 23,
      "outputs": []
    },
    {
      "cell_type": "code",
      "source": [
        "df.drop(columns=['cohort_tag'], inplace=True)   #to drop column cohort tag"
      ],
      "metadata": {
        "id": "OHpiZwug___o"
      },
      "execution_count": 24,
      "outputs": []
    },
    {
      "cell_type": "code",
      "source": [
        "print(df)"
      ],
      "metadata": {
        "colab": {
          "base_uri": "https://localhost:8080/"
        },
        "id": "9PZi7PXPAEKj",
        "outputId": "4af65141-e344-44b2-cc8c-d24922371aa4"
      },
      "execution_count": 25,
      "outputs": [
        {
          "output_type": "stream",
          "name": "stdout",
          "text": [
            "     pathrise_status  program_duration_days  placed  employment_status   \\\n",
            "0             Active                    NaN       0          Unemployed   \n",
            "1             Active                    NaN       0          Unemployed   \n",
            "2        Closed Lost                    0.0       0  Employed Part-Time   \n",
            "3        Closed Lost                    0.0       0          Contractor   \n",
            "4             Placed                   89.0       1          Unemployed   \n",
            "...              ...                    ...     ...                 ...   \n",
            "2535     Closed Lost                    0.0       0  Employed Full-Time   \n",
            "2536          Active                    NaN       0  Employed Full-Time   \n",
            "2537          Active                    NaN       0          Contractor   \n",
            "2541          Active                    NaN       0          Contractor   \n",
            "2542          Active                    NaN       0                 NaN   \n",
            "\n",
            "     highest_level_of_education professional_experience  \\\n",
            "0             Bachelor's Degree               3-4 years   \n",
            "1       Some College, No Degree               1-2 years   \n",
            "2               Master's Degree      Less than one year   \n",
            "3             Bachelor's Degree      Less than one year   \n",
            "4             Bachelor's Degree               1-2 years   \n",
            "...                         ...                     ...   \n",
            "2535            Master's Degree               3-4 years   \n",
            "2536          Bachelor's Degree                5+ years   \n",
            "2537          Bachelor's Degree               1-2 years   \n",
            "2541          Bachelor's Degree               1-2 years   \n",
            "2542            Master's Degree               1-2 years   \n",
            "\n",
            "     work_authorization_status  number_of_interviews  number_of_applications  \\\n",
            "0               Canada Citizen                   2.0                     900   \n",
            "1                      Citizen                   6.0                       0   \n",
            "2                      Citizen                   0.0                       0   \n",
            "3                      Citizen                   5.0                      25   \n",
            "4                  F1 Visa/OPT                  10.0                     100   \n",
            "...                        ...                   ...                     ...   \n",
            "2535                   Citizen                   0.0                      20   \n",
            "2536                       NaN                   0.0                      10   \n",
            "2537                       NaN                   1.0                      70   \n",
            "2541                   Citizen                   1.0                      30   \n",
            "2542                   Citizen                   2.0                      10   \n",
            "\n",
            "     month year  \n",
            "0      OCT   19  \n",
            "1      JAN   20  \n",
            "2      AUG   19  \n",
            "3      AUG   19  \n",
            "4      AUG   19  \n",
            "...    ...  ...  \n",
            "2535   SEP   19  \n",
            "2536   FEB   20  \n",
            "2537   JAN   19  \n",
            "2541   SEP   18  \n",
            "2542   MAY   18  \n",
            "\n",
            "[1788 rows x 11 columns]\n"
          ]
        }
      ]
    },
    {
      "cell_type": "code",
      "source": [
        "df['employment_status '].replace(np.nan, 'missing_employment_status', inplace=True)"
      ],
      "metadata": {
        "id": "J_OlTcUaAH0n"
      },
      "execution_count": 26,
      "outputs": []
    },
    {
      "cell_type": "code",
      "source": [
        "df['highest_level_of_education'].replace(np.nan, 'missing_highest_level_of_education', inplace=True)"
      ],
      "metadata": {
        "id": "yQzcjqrrAOfi"
      },
      "execution_count": 27,
      "outputs": []
    },
    {
      "cell_type": "code",
      "source": [
        "df['professional_experience'].replace(np.nan, 'missing_professional_experience', inplace=True)"
      ],
      "metadata": {
        "id": "B2xj9S5LAPEh"
      },
      "execution_count": 28,
      "outputs": []
    },
    {
      "cell_type": "code",
      "source": [
        "df['work_authorization_status'].replace(np.nan, 'missing_work_authorization_status', inplace=True)"
      ],
      "metadata": {
        "id": "1XTfr3mcAT4P"
      },
      "execution_count": 29,
      "outputs": []
    },
    {
      "cell_type": "code",
      "source": [
        "median = df['number_of_interviews'].median()\n",
        "df['number_of_interviews'].replace(np.nan, median, inplace=True)"
      ],
      "metadata": {
        "id": "vL5XTSbSAXGo"
      },
      "execution_count": 30,
      "outputs": []
    },
    {
      "cell_type": "code",
      "source": [
        "median = df['number_of_applications'].median()\n",
        "df['number_of_applications'].replace(np.nan, median, inplace=True)"
      ],
      "metadata": {
        "id": "0Iyc1L-dAZa4"
      },
      "execution_count": 31,
      "outputs": []
    },
    {
      "cell_type": "code",
      "source": [
        "df.isnull().sum()"
      ],
      "metadata": {
        "colab": {
          "base_uri": "https://localhost:8080/"
        },
        "id": "vT0oOf3FAcZv",
        "outputId": "c165abba-46d9-4b45-c1e5-425872f83a0e"
      },
      "execution_count": 32,
      "outputs": [
        {
          "output_type": "execute_result",
          "data": {
            "text/plain": [
              "pathrise_status                 0\n",
              "program_duration_days         616\n",
              "placed                          0\n",
              "employment_status               0\n",
              "highest_level_of_education      0\n",
              "professional_experience         0\n",
              "work_authorization_status       0\n",
              "number_of_interviews            0\n",
              "number_of_applications          0\n",
              "month                           0\n",
              "year                            0\n",
              "dtype: int64"
            ]
          },
          "metadata": {},
          "execution_count": 32
        }
      ]
    },
    {
      "cell_type": "code",
      "source": [
        "df.columns"
      ],
      "metadata": {
        "colab": {
          "base_uri": "https://localhost:8080/"
        },
        "id": "664o4iVbAlnL",
        "outputId": "2a6a0137-d00f-4bfb-a6ce-bee391e8b323"
      },
      "execution_count": 34,
      "outputs": [
        {
          "output_type": "execute_result",
          "data": {
            "text/plain": [
              "Index(['pathrise_status', 'program_duration_days', 'placed',\n",
              "       'employment_status ', 'highest_level_of_education',\n",
              "       'professional_experience', 'work_authorization_status',\n",
              "       'number_of_interviews', 'number_of_applications', 'month', 'year'],\n",
              "      dtype='object')"
            ]
          },
          "metadata": {},
          "execution_count": 34
        }
      ]
    }
  ]
}